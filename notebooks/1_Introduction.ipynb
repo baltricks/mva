{
 "cells": [
  {
   "cell_type": "markdown",
   "metadata": {},
   "source": [
    "# 1 Introduction to the empirical data analysis"
   ]
  },
  {
   "cell_type": "markdown",
   "metadata": {},
   "source": [
    "## 1.1 Multivariate analysis methods in this book: overview and basics"
   ]
  },
  {
   "cell_type": "markdown",
   "metadata": {},
   "source": [
    "### 1.1.3 Classification of multivariate analysis methods"
   ]
  },
  {
   "cell_type": "markdown",
   "metadata": {},
   "source": [
    "### 1.1.3.1 Structure-checking methods"
   ]
  },
  {
   "cell_type": "markdown",
   "metadata": {},
   "source": [
    "|  |  | Independent Variable | |\n",
    "| :- | -: | :-: | :-: |\n",
    "|  | ***Scales***  | *metric* | *nominal/ordinal* |\n",
    "| **Dependent Variable** | *metric* | Regression analysis | Variance analysis |\n",
    "|  | *nominal/ordinal* | Discriminant Analysis, Logistic regression | Contingency analysis, Conjoint-analysis |"
   ]
  },
  {
   "cell_type": "markdown",
   "metadata": {},
   "source": [
    "### 1.1.3.2 Structure-discovery methods"
   ]
  },
  {
   "cell_type": "markdown",
   "metadata": {},
   "source": [
    "* Factor analysis (exploratory)\n",
    "* Cluster anaylsis"
   ]
  },
  {
   "cell_type": "markdown",
   "metadata": {},
   "source": [
    "## 1.2 Basic statistical concepts"
   ]
  },
  {
   "cell_type": "code",
   "execution_count": 1,
   "metadata": {},
   "outputs": [],
   "source": [
    "import math\n",
    "import pandas as pd\n",
    "import numpy as np\n",
    "import matplotlib.pyplot as plt\n",
    "from scipy.stats import norm, t"
   ]
  },
  {
   "cell_type": "markdown",
   "metadata": {},
   "source": [
    "### 1.2.1 Basic statistical characteristics"
   ]
  },
  {
   "cell_type": "code",
   "execution_count": 2,
   "metadata": {},
   "outputs": [
    {
     "data": {
      "text/html": [
       "<div>\n",
       "<style scoped>\n",
       "    .dataframe tbody tr th:only-of-type {\n",
       "        vertical-align: middle;\n",
       "    }\n",
       "\n",
       "    .dataframe tbody tr th {\n",
       "        vertical-align: top;\n",
       "    }\n",
       "\n",
       "    .dataframe thead th {\n",
       "        text-align: right;\n",
       "    }\n",
       "</style>\n",
       "<table border=\"1\" class=\"dataframe\">\n",
       "  <thead>\n",
       "    <tr style=\"text-align: right;\">\n",
       "      <th></th>\n",
       "      <th>x1</th>\n",
       "      <th>x2</th>\n",
       "      <th>x3</th>\n",
       "    </tr>\n",
       "  </thead>\n",
       "  <tbody>\n",
       "    <tr>\n",
       "      <th>0</th>\n",
       "      <td>25</td>\n",
       "      <td>1800</td>\n",
       "      <td>1</td>\n",
       "    </tr>\n",
       "    <tr>\n",
       "      <th>1</th>\n",
       "      <td>27</td>\n",
       "      <td>2000</td>\n",
       "      <td>0</td>\n",
       "    </tr>\n",
       "    <tr>\n",
       "      <th>2</th>\n",
       "      <td>24</td>\n",
       "      <td>1900</td>\n",
       "      <td>0</td>\n",
       "    </tr>\n",
       "    <tr>\n",
       "      <th>3</th>\n",
       "      <td>30</td>\n",
       "      <td>2800</td>\n",
       "      <td>0</td>\n",
       "    </tr>\n",
       "    <tr>\n",
       "      <th>4</th>\n",
       "      <td>29</td>\n",
       "      <td>3500</td>\n",
       "      <td>1</td>\n",
       "    </tr>\n",
       "  </tbody>\n",
       "</table>\n",
       "</div>"
      ],
      "text/plain": [
       "   x1    x2  x3\n",
       "0  25  1800   1\n",
       "1  27  2000   0\n",
       "2  24  1900   0\n",
       "3  30  2800   0\n",
       "4  29  3500   1"
      ]
     },
     "execution_count": 2,
     "metadata": {},
     "output_type": "execute_result"
    }
   ],
   "source": [
    "# Data from Tab. 1.7 as dictionary (and dataframe)\n",
    "data = { 'x1':[25, 27, 24, 30, 29], 'x2':[1800, 2000, 1900, 2800, 3500], 'x3':[1, 0, 0, 0, 1] }\n",
    "df = pd.DataFrame(data)\n",
    "df"
   ]
  },
  {
   "cell_type": "markdown",
   "metadata": {},
   "source": [
    "#### Mean"
   ]
  },
  {
   "cell_type": "code",
   "execution_count": 3,
   "metadata": {},
   "outputs": [],
   "source": [
    "# my mean function (formula 1.1)\n",
    "def myMean(x):\n",
    "    return sum(x) / len(x)"
   ]
  },
  {
   "cell_type": "code",
   "execution_count": 4,
   "metadata": {},
   "outputs": [
    {
     "name": "stdout",
     "output_type": "stream",
     "text": [
      "x1 mean: 27.0 (27.0, 27.0)\n",
      "x2 mean: 2400.0 (2400.0, 2400.0)\n",
      "x3 mean: 0.4 (0.4, 0.4)\n"
     ]
    }
   ],
   "source": [
    "# mean values with own function, numpy or dataframes\n",
    "print(f\"x1 mean: {myMean(data['x1'])} ({np.mean(data['x1'])}, {df['x1'].mean()})\")\n",
    "print(f\"x2 mean: {myMean(data['x2'])} ({np.mean(data['x2'])}, {df['x2'].mean()})\")\n",
    "print(f\"x3 mean: {myMean(data['x3'])} ({np.mean(data['x3'])}, {df['x3'].mean()})\")"
   ]
  },
  {
   "cell_type": "markdown",
   "metadata": {},
   "source": [
    "#### Variance and standard deviation"
   ]
  },
  {
   "cell_type": "code",
   "execution_count": 5,
   "metadata": {},
   "outputs": [],
   "source": [
    "# my variance function (with small difference to the formula 1.2)\n",
    "def myVariance(x):\n",
    "    mean = myMean(x)\n",
    "    s = sum([(xi - mean) ** 2 for xi in x])\n",
    "    return s / (len(x) - 1) # difference\n",
    "\n",
    "# my standard deviation function (formula 1.3)\n",
    "def myStd(x):\n",
    "    mean = myMean(x)\n",
    "    s = sum([(xi - mean) ** 2 for xi in x])\n",
    "    return math.sqrt(s / (len(x) - 1))"
   ]
  },
  {
   "cell_type": "code",
   "execution_count": 6,
   "metadata": {},
   "outputs": [
    {
     "name": "stdout",
     "output_type": "stream",
     "text": [
      "x1 variance: 6.5 (6.5, 6.5)\n",
      "x2 variance: 535000.0 (535000.0, 535000.0)\n",
      "x3 variance: 0.30000000000000004 (0.30000000000000004, 0.30000000000000004)\n",
      "x1 standard deviation: 2.5495097567963922 (2.5495097567963922, 2.5495097567963922)\n",
      "x2 standard deviation: 731.4369419163896 (731.4369419163896, 731.4369419163896)\n",
      "x3 standard deviation: 0.5477225575051662 (0.5477225575051662, 0.5477225575051662)\n"
     ]
    }
   ],
   "source": [
    "# variance and standard deviation values with own function, numpy or dataframes\n",
    "print(f\"x1 variance: {myVariance(data['x1'])} ({np.var(data['x1'], ddof=1)}, {df['x1'].var()})\")\n",
    "print(f\"x2 variance: {myVariance(data['x2'])} ({np.var(data['x2'], ddof=1)}, {df['x2'].var()})\")\n",
    "print(f\"x3 variance: {myVariance(data['x3'])} ({np.var(data['x3'], ddof=1)}, {df['x3'].var()})\")\n",
    "print(f\"x1 standard deviation: {myStd(data['x1'])} ({np.std(data['x1'], ddof=1)}, {df['x1'].std()})\")\n",
    "print(f\"x2 standard deviation: {myStd(data['x2'])} ({np.std(data['x2'], ddof=1)}, {df['x2'].std()})\")\n",
    "print(f\"x3 standard deviation: {myStd(data['x3'])} ({np.std(data['x3'], ddof=1)}, {df['x3'].std()})\")"
   ]
  },
  {
   "cell_type": "markdown",
   "metadata": {},
   "source": [
    "#### Standardization"
   ]
  },
  {
   "cell_type": "code",
   "execution_count": 7,
   "metadata": {},
   "outputs": [
    {
     "data": {
      "text/html": [
       "<div>\n",
       "<style scoped>\n",
       "    .dataframe tbody tr th:only-of-type {\n",
       "        vertical-align: middle;\n",
       "    }\n",
       "\n",
       "    .dataframe tbody tr th {\n",
       "        vertical-align: top;\n",
       "    }\n",
       "\n",
       "    .dataframe thead th {\n",
       "        text-align: right;\n",
       "    }\n",
       "</style>\n",
       "<table border=\"1\" class=\"dataframe\">\n",
       "  <thead>\n",
       "    <tr style=\"text-align: right;\">\n",
       "      <th></th>\n",
       "      <th>x1</th>\n",
       "      <th>A</th>\n",
       "      <th>B</th>\n",
       "      <th>x2</th>\n",
       "      <th>C</th>\n",
       "      <th>D</th>\n",
       "      <th>x3</th>\n",
       "      <th>E</th>\n",
       "      <th>F</th>\n",
       "    </tr>\n",
       "  </thead>\n",
       "  <tbody>\n",
       "    <tr>\n",
       "      <th>0</th>\n",
       "      <td>25</td>\n",
       "      <td>-2.0</td>\n",
       "      <td>-0.784465</td>\n",
       "      <td>1800</td>\n",
       "      <td>-600.0</td>\n",
       "      <td>-0.820303</td>\n",
       "      <td>1</td>\n",
       "      <td>0.6</td>\n",
       "      <td>1.095445</td>\n",
       "    </tr>\n",
       "    <tr>\n",
       "      <th>1</th>\n",
       "      <td>27</td>\n",
       "      <td>0.0</td>\n",
       "      <td>0.000000</td>\n",
       "      <td>2000</td>\n",
       "      <td>-400.0</td>\n",
       "      <td>-0.546869</td>\n",
       "      <td>0</td>\n",
       "      <td>-0.4</td>\n",
       "      <td>-0.730297</td>\n",
       "    </tr>\n",
       "    <tr>\n",
       "      <th>2</th>\n",
       "      <td>24</td>\n",
       "      <td>-3.0</td>\n",
       "      <td>-1.176697</td>\n",
       "      <td>1900</td>\n",
       "      <td>-500.0</td>\n",
       "      <td>-0.683586</td>\n",
       "      <td>0</td>\n",
       "      <td>-0.4</td>\n",
       "      <td>-0.730297</td>\n",
       "    </tr>\n",
       "    <tr>\n",
       "      <th>3</th>\n",
       "      <td>30</td>\n",
       "      <td>3.0</td>\n",
       "      <td>1.176697</td>\n",
       "      <td>2800</td>\n",
       "      <td>400.0</td>\n",
       "      <td>0.546869</td>\n",
       "      <td>0</td>\n",
       "      <td>-0.4</td>\n",
       "      <td>-0.730297</td>\n",
       "    </tr>\n",
       "    <tr>\n",
       "      <th>4</th>\n",
       "      <td>29</td>\n",
       "      <td>2.0</td>\n",
       "      <td>0.784465</td>\n",
       "      <td>3500</td>\n",
       "      <td>1100.0</td>\n",
       "      <td>1.503889</td>\n",
       "      <td>1</td>\n",
       "      <td>0.6</td>\n",
       "      <td>1.095445</td>\n",
       "    </tr>\n",
       "  </tbody>\n",
       "</table>\n",
       "</div>"
      ],
      "text/plain": [
       "   x1    A         B    x2       C         D  x3    E         F\n",
       "0  25 -2.0 -0.784465  1800  -600.0 -0.820303   1  0.6  1.095445\n",
       "1  27  0.0  0.000000  2000  -400.0 -0.546869   0 -0.4 -0.730297\n",
       "2  24 -3.0 -1.176697  1900  -500.0 -0.683586   0 -0.4 -0.730297\n",
       "3  30  3.0  1.176697  2800   400.0  0.546869   0 -0.4 -0.730297\n",
       "4  29  2.0  0.784465  3500  1100.0  1.503889   1  0.6  1.095445"
      ]
     },
     "execution_count": 7,
     "metadata": {},
     "output_type": "execute_result"
    }
   ],
   "source": [
    "meanX1, meanX2, meanX3 = myMean(data['x1']), myMean(data['x2']), myMean(data['x3'])\n",
    "sX1, sX2, sX3          = myStd(data['x1']),  myStd(data['x2']),  myStd(data['x3'])\n",
    "\n",
    "# (formula 1.6)\n",
    "data['A'] = [xi - meanX1 for xi in data['x1']]\n",
    "data['B'] = [ai / sX1  for ai in data['A']]\n",
    "data['C'] = [xi - meanX2 for xi in data['x2']]\n",
    "data['D'] = [ci / sX2  for ci in data['C']]\n",
    "data['E'] = [xi - meanX3 for xi in data['x3']]\n",
    "data['F'] = [ei / sX3  for ei in data['E']]\n",
    "pd.DataFrame(data=data, columns=(\"x1\",\"A\",\"B\",\"x2\",\"C\",\"D\",\"x3\",\"E\",\"F\"))"
   ]
  },
  {
   "cell_type": "code",
   "execution_count": 8,
   "metadata": {},
   "outputs": [
    {
     "data": {
      "text/html": [
       "<div>\n",
       "<style scoped>\n",
       "    .dataframe tbody tr th:only-of-type {\n",
       "        vertical-align: middle;\n",
       "    }\n",
       "\n",
       "    .dataframe tbody tr th {\n",
       "        vertical-align: top;\n",
       "    }\n",
       "\n",
       "    .dataframe thead th {\n",
       "        text-align: right;\n",
       "    }\n",
       "</style>\n",
       "<table border=\"1\" class=\"dataframe\">\n",
       "  <thead>\n",
       "    <tr style=\"text-align: right;\">\n",
       "      <th></th>\n",
       "      <th>z1</th>\n",
       "      <th>z2</th>\n",
       "      <th>z3</th>\n",
       "    </tr>\n",
       "  </thead>\n",
       "  <tbody>\n",
       "    <tr>\n",
       "      <th>0</th>\n",
       "      <td>-0.784465</td>\n",
       "      <td>-0.820303</td>\n",
       "      <td>1.095445</td>\n",
       "    </tr>\n",
       "    <tr>\n",
       "      <th>1</th>\n",
       "      <td>0.000000</td>\n",
       "      <td>-0.546869</td>\n",
       "      <td>-0.730297</td>\n",
       "    </tr>\n",
       "    <tr>\n",
       "      <th>2</th>\n",
       "      <td>-1.176697</td>\n",
       "      <td>-0.683586</td>\n",
       "      <td>-0.730297</td>\n",
       "    </tr>\n",
       "    <tr>\n",
       "      <th>3</th>\n",
       "      <td>1.176697</td>\n",
       "      <td>0.546869</td>\n",
       "      <td>-0.730297</td>\n",
       "    </tr>\n",
       "    <tr>\n",
       "      <th>4</th>\n",
       "      <td>0.784465</td>\n",
       "      <td>1.503889</td>\n",
       "      <td>1.095445</td>\n",
       "    </tr>\n",
       "  </tbody>\n",
       "</table>\n",
       "</div>"
      ],
      "text/plain": [
       "         z1        z2        z3\n",
       "0 -0.784465 -0.820303  1.095445\n",
       "1  0.000000 -0.546869 -0.730297\n",
       "2 -1.176697 -0.683586 -0.730297\n",
       "3  1.176697  0.546869 -0.730297\n",
       "4  0.784465  1.503889  1.095445"
      ]
     },
     "execution_count": 8,
     "metadata": {},
     "output_type": "execute_result"
    }
   ],
   "source": [
    "# only standardized data:\n",
    "dfStd = pd.DataFrame({ 'z1': data['B'], 'z2': data['D'], 'z3': data['F']})\n",
    "dfStd"
   ]
  },
  {
   "cell_type": "code",
   "execution_count": 9,
   "metadata": {},
   "outputs": [
    {
     "data": {
      "text/html": [
       "<div>\n",
       "<style scoped>\n",
       "    .dataframe tbody tr th:only-of-type {\n",
       "        vertical-align: middle;\n",
       "    }\n",
       "\n",
       "    .dataframe tbody tr th {\n",
       "        vertical-align: top;\n",
       "    }\n",
       "\n",
       "    .dataframe thead th {\n",
       "        text-align: right;\n",
       "    }\n",
       "</style>\n",
       "<table border=\"1\" class=\"dataframe\">\n",
       "  <thead>\n",
       "    <tr style=\"text-align: right;\">\n",
       "      <th></th>\n",
       "      <th>z1</th>\n",
       "      <th>z2</th>\n",
       "      <th>z3</th>\n",
       "    </tr>\n",
       "  </thead>\n",
       "  <tbody>\n",
       "    <tr>\n",
       "      <th>count</th>\n",
       "      <td>5.000000</td>\n",
       "      <td>5.000000</td>\n",
       "      <td>5.000000</td>\n",
       "    </tr>\n",
       "    <tr>\n",
       "      <th>mean</th>\n",
       "      <td>0.000000</td>\n",
       "      <td>0.000000</td>\n",
       "      <td>0.000000</td>\n",
       "    </tr>\n",
       "    <tr>\n",
       "      <th>std</th>\n",
       "      <td>1.000000</td>\n",
       "      <td>1.000000</td>\n",
       "      <td>1.000000</td>\n",
       "    </tr>\n",
       "    <tr>\n",
       "      <th>min</th>\n",
       "      <td>-1.176697</td>\n",
       "      <td>-0.820303</td>\n",
       "      <td>-0.730297</td>\n",
       "    </tr>\n",
       "    <tr>\n",
       "      <th>25%</th>\n",
       "      <td>-0.784465</td>\n",
       "      <td>-0.683586</td>\n",
       "      <td>-0.730297</td>\n",
       "    </tr>\n",
       "    <tr>\n",
       "      <th>50%</th>\n",
       "      <td>0.000000</td>\n",
       "      <td>-0.546869</td>\n",
       "      <td>-0.730297</td>\n",
       "    </tr>\n",
       "    <tr>\n",
       "      <th>75%</th>\n",
       "      <td>0.784465</td>\n",
       "      <td>0.546869</td>\n",
       "      <td>1.095445</td>\n",
       "    </tr>\n",
       "    <tr>\n",
       "      <th>max</th>\n",
       "      <td>1.176697</td>\n",
       "      <td>1.503889</td>\n",
       "      <td>1.095445</td>\n",
       "    </tr>\n",
       "  </tbody>\n",
       "</table>\n",
       "</div>"
      ],
      "text/plain": [
       "             z1        z2        z3\n",
       "count  5.000000  5.000000  5.000000\n",
       "mean   0.000000  0.000000  0.000000\n",
       "std    1.000000  1.000000  1.000000\n",
       "min   -1.176697 -0.820303 -0.730297\n",
       "25%   -0.784465 -0.683586 -0.730297\n",
       "50%    0.000000 -0.546869 -0.730297\n",
       "75%    0.784465  0.546869  1.095445\n",
       "max    1.176697  1.503889  1.095445"
      ]
     },
     "execution_count": 9,
     "metadata": {},
     "output_type": "execute_result"
    }
   ],
   "source": [
    "dfStd.describe()"
   ]
  },
  {
   "cell_type": "code",
   "execution_count": 10,
   "metadata": {},
   "outputs": [
    {
     "data": {
      "text/plain": [
       "z1    1.0\n",
       "z2    1.0\n",
       "z3    1.0\n",
       "dtype: float64"
      ]
     },
     "execution_count": 10,
     "metadata": {},
     "output_type": "execute_result"
    }
   ],
   "source": [
    "dfStd.var()"
   ]
  },
  {
   "cell_type": "code",
   "execution_count": 11,
   "metadata": {},
   "outputs": [
    {
     "data": {
      "text/plain": [
       "z1    0.0\n",
       "z2    0.0\n",
       "z3    0.0\n",
       "dtype: float64"
      ]
     },
     "execution_count": 11,
     "metadata": {},
     "output_type": "execute_result"
    }
   ],
   "source": [
    "dfStd.sum()"
   ]
  },
  {
   "cell_type": "markdown",
   "metadata": {},
   "source": [
    "### 1.2.2 Covariance und correlation"
   ]
  },
  {
   "cell_type": "markdown",
   "metadata": {},
   "source": [
    "Covariance"
   ]
  },
  {
   "cell_type": "code",
   "execution_count": 12,
   "metadata": {},
   "outputs": [],
   "source": [
    "# my covariance function (formula 1.7)\n",
    "def myCov(x1, x2):\n",
    "    mean1 = myMean(x1)\n",
    "    mean2 = myMean(x2)\n",
    "    s = sum([(x1[i] - mean1) * (x2[i] - mean2) for i in range(0, len(x1))])\n",
    "    return s / (len(x1) - 1)"
   ]
  },
  {
   "cell_type": "markdown",
   "metadata": {},
   "source": [
    "<div class=\"alert alert-block alert-warning\">\n",
    "    <b>Difference to the book</b>: Using here 'E' instead of 'F'\n",
    "</div>"
   ]
  },
  {
   "cell_type": "code",
   "execution_count": 13,
   "metadata": {},
   "outputs": [
    {
     "data": {
      "text/html": [
       "<div>\n",
       "<style scoped>\n",
       "    .dataframe tbody tr th:only-of-type {\n",
       "        vertical-align: middle;\n",
       "    }\n",
       "\n",
       "    .dataframe tbody tr th {\n",
       "        vertical-align: top;\n",
       "    }\n",
       "\n",
       "    .dataframe thead th {\n",
       "        text-align: right;\n",
       "    }\n",
       "</style>\n",
       "<table border=\"1\" class=\"dataframe\">\n",
       "  <thead>\n",
       "    <tr style=\"text-align: right;\">\n",
       "      <th></th>\n",
       "      <th>A</th>\n",
       "      <th>C</th>\n",
       "      <th>E</th>\n",
       "      <th>AC</th>\n",
       "      <th>AE</th>\n",
       "      <th>CE</th>\n",
       "    </tr>\n",
       "  </thead>\n",
       "  <tbody>\n",
       "    <tr>\n",
       "      <th>0</th>\n",
       "      <td>-2.0</td>\n",
       "      <td>-600.0</td>\n",
       "      <td>0.6</td>\n",
       "      <td>1200.0</td>\n",
       "      <td>-1.2</td>\n",
       "      <td>-360.0</td>\n",
       "    </tr>\n",
       "    <tr>\n",
       "      <th>1</th>\n",
       "      <td>0.0</td>\n",
       "      <td>-400.0</td>\n",
       "      <td>-0.4</td>\n",
       "      <td>-0.0</td>\n",
       "      <td>-0.0</td>\n",
       "      <td>160.0</td>\n",
       "    </tr>\n",
       "    <tr>\n",
       "      <th>2</th>\n",
       "      <td>-3.0</td>\n",
       "      <td>-500.0</td>\n",
       "      <td>-0.4</td>\n",
       "      <td>1500.0</td>\n",
       "      <td>1.2</td>\n",
       "      <td>200.0</td>\n",
       "    </tr>\n",
       "    <tr>\n",
       "      <th>3</th>\n",
       "      <td>3.0</td>\n",
       "      <td>400.0</td>\n",
       "      <td>-0.4</td>\n",
       "      <td>1200.0</td>\n",
       "      <td>-1.2</td>\n",
       "      <td>-160.0</td>\n",
       "    </tr>\n",
       "    <tr>\n",
       "      <th>4</th>\n",
       "      <td>2.0</td>\n",
       "      <td>1100.0</td>\n",
       "      <td>0.6</td>\n",
       "      <td>2200.0</td>\n",
       "      <td>1.2</td>\n",
       "      <td>660.0</td>\n",
       "    </tr>\n",
       "  </tbody>\n",
       "</table>\n",
       "</div>"
      ],
      "text/plain": [
       "     A       C    E      AC   AE     CE\n",
       "0 -2.0  -600.0  0.6  1200.0 -1.2 -360.0\n",
       "1  0.0  -400.0 -0.4    -0.0 -0.0  160.0\n",
       "2 -3.0  -500.0 -0.4  1500.0  1.2  200.0\n",
       "3  3.0   400.0 -0.4  1200.0 -1.2 -160.0\n",
       "4  2.0  1100.0  0.6  2200.0  1.2  660.0"
      ]
     },
     "execution_count": 13,
     "metadata": {},
     "output_type": "execute_result"
    }
   ],
   "source": [
    "data['AC'] = [data['A'][i] * data['C'][i]  for i in range(0, len(data['A']))]\n",
    "data['AE'] = [data['A'][i] * data['E'][i]  for i in range(0, len(data['A']))]\n",
    "data['CE'] = [data['C'][i] * data['E'][i]  for i in range(0, len(data['A']))]\n",
    "pd.DataFrame(data = data, columns=(\"A\",\"C\",\"E\",\"AC\",\"AE\",\"CE\"))"
   ]
  },
  {
   "cell_type": "code",
   "execution_count": 14,
   "metadata": {},
   "outputs": [
    {
     "name": "stdout",
     "output_type": "stream",
     "text": [
      "covariance(x1,x2): 1525.0, \n",
      "covariance(x1,x3): 0.0\n",
      "covariance(x2,x3): 125.0\n"
     ]
    }
   ],
   "source": [
    "sX1X2, sX1X3, sX2X3 = myCov(data['x1'], data['x2']), myCov(data['x1'], data['x3']), myCov(data['x2'], data['x3'])\n",
    "print(f\"covariance(x1,x2): {sX1X2}, \")\n",
    "print(f\"covariance(x1,x3): {sX1X3}\")\n",
    "print(f\"covariance(x2,x3): {sX2X3}\")"
   ]
  },
  {
   "cell_type": "code",
   "execution_count": 15,
   "metadata": {
    "scrolled": true
   },
   "outputs": [
    {
     "data": {
      "text/html": [
       "<div>\n",
       "<style scoped>\n",
       "    .dataframe tbody tr th:only-of-type {\n",
       "        vertical-align: middle;\n",
       "    }\n",
       "\n",
       "    .dataframe tbody tr th {\n",
       "        vertical-align: top;\n",
       "    }\n",
       "\n",
       "    .dataframe thead th {\n",
       "        text-align: right;\n",
       "    }\n",
       "</style>\n",
       "<table border=\"1\" class=\"dataframe\">\n",
       "  <thead>\n",
       "    <tr style=\"text-align: right;\">\n",
       "      <th></th>\n",
       "      <th>x1</th>\n",
       "      <th>x2</th>\n",
       "      <th>x3</th>\n",
       "    </tr>\n",
       "  </thead>\n",
       "  <tbody>\n",
       "    <tr>\n",
       "      <th>x1</th>\n",
       "      <td>6.5</td>\n",
       "      <td>1525.0</td>\n",
       "      <td>0.0</td>\n",
       "    </tr>\n",
       "    <tr>\n",
       "      <th>x2</th>\n",
       "      <td>1525.0</td>\n",
       "      <td>535000.0</td>\n",
       "      <td>125.0</td>\n",
       "    </tr>\n",
       "    <tr>\n",
       "      <th>x3</th>\n",
       "      <td>0.0</td>\n",
       "      <td>125.0</td>\n",
       "      <td>0.3</td>\n",
       "    </tr>\n",
       "  </tbody>\n",
       "</table>\n",
       "</div>"
      ],
      "text/plain": [
       "        x1        x2     x3\n",
       "x1     6.5    1525.0    0.0\n",
       "x2  1525.0  535000.0  125.0\n",
       "x3     0.0     125.0    0.3"
      ]
     },
     "execution_count": 15,
     "metadata": {},
     "output_type": "execute_result"
    }
   ],
   "source": [
    "pd.DataFrame(data=data, columns=(\"x1\",\"x2\",\"x3\")).cov()"
   ]
  },
  {
   "cell_type": "markdown",
   "metadata": {},
   "source": [
    "Correlation"
   ]
  },
  {
   "cell_type": "code",
   "execution_count": 16,
   "metadata": {},
   "outputs": [],
   "source": [
    "# my correlation function (formula 1.8)\n",
    "def myCorr(si, sj, sij):\n",
    "    return sij / (si * sj)"
   ]
  },
  {
   "cell_type": "code",
   "execution_count": 17,
   "metadata": {},
   "outputs": [
    {
     "name": "stdout",
     "output_type": "stream",
     "text": [
      "correlation(x1,x2): 0.817779603261871\n",
      "correlation(x1,x3): 0.0\n",
      "correlation(x2,x3): 0.31201286018707364\n"
     ]
    }
   ],
   "source": [
    "print(f\"correlation(x1,x2): {myCorr(sX1, sX2, sX1X2)}\")\n",
    "print(f\"correlation(x1,x3): {myCorr(sX1, sX3, sX1X3)}\")\n",
    "print(f\"correlation(x2,x3): {myCorr(sX2, sX3, sX2X3)}\")"
   ]
  },
  {
   "cell_type": "code",
   "execution_count": 18,
   "metadata": {},
   "outputs": [
    {
     "data": {
      "text/html": [
       "<div>\n",
       "<style scoped>\n",
       "    .dataframe tbody tr th:only-of-type {\n",
       "        vertical-align: middle;\n",
       "    }\n",
       "\n",
       "    .dataframe tbody tr th {\n",
       "        vertical-align: top;\n",
       "    }\n",
       "\n",
       "    .dataframe thead th {\n",
       "        text-align: right;\n",
       "    }\n",
       "</style>\n",
       "<table border=\"1\" class=\"dataframe\">\n",
       "  <thead>\n",
       "    <tr style=\"text-align: right;\">\n",
       "      <th></th>\n",
       "      <th>x1</th>\n",
       "      <th>x2</th>\n",
       "      <th>x3</th>\n",
       "    </tr>\n",
       "  </thead>\n",
       "  <tbody>\n",
       "    <tr>\n",
       "      <th>x1</th>\n",
       "      <td>1.000000e+00</td>\n",
       "      <td>0.817780</td>\n",
       "      <td>-3.975236e-17</td>\n",
       "    </tr>\n",
       "    <tr>\n",
       "      <th>x2</th>\n",
       "      <td>8.177796e-01</td>\n",
       "      <td>1.000000</td>\n",
       "      <td>3.120129e-01</td>\n",
       "    </tr>\n",
       "    <tr>\n",
       "      <th>x3</th>\n",
       "      <td>-3.975236e-17</td>\n",
       "      <td>0.312013</td>\n",
       "      <td>1.000000e+00</td>\n",
       "    </tr>\n",
       "  </tbody>\n",
       "</table>\n",
       "</div>"
      ],
      "text/plain": [
       "              x1        x2            x3\n",
       "x1  1.000000e+00  0.817780 -3.975236e-17\n",
       "x2  8.177796e-01  1.000000  3.120129e-01\n",
       "x3 -3.975236e-17  0.312013  1.000000e+00"
      ]
     },
     "execution_count": 18,
     "metadata": {},
     "output_type": "execute_result"
    }
   ],
   "source": [
    "pd.DataFrame(data=data, columns=(\"x1\",\"x2\",\"x3\")).corr()"
   ]
  },
  {
   "cell_type": "markdown",
   "metadata": {},
   "source": [
    "#### t-statistic and F-statistic"
   ]
  },
  {
   "cell_type": "code",
   "execution_count": 19,
   "metadata": {},
   "outputs": [],
   "source": [
    "def myTStatistic(corr, N):\n",
    "    return corr / math.sqrt((1 - corr **2) / (N - 2))\n",
    "def myFStatistic(corr, N):\n",
    "    return corr ** 2 / ((1 - corr **2) / (N - 2))"
   ]
  },
  {
   "cell_type": "code",
   "execution_count": 20,
   "metadata": {},
   "outputs": [
    {
     "name": "stdout",
     "output_type": "stream",
     "text": [
      "t(x1,x2): 2.4610916942947365       t(x1,x3): 0.0       t(x2,x3): 0.5688187660501992\n",
      "F(x1,x2): 6.0569723277265375       F(x1,x3): 0.0       F(x2,x3): 0.32355478861087134\n"
     ]
    }
   ],
   "source": [
    "print(f\"t(x1,x2): {myTStatistic(myCorr(sX1, sX2, sX1X2), len(data['x1']))} \\\n",
    "      t(x1,x3): {myTStatistic(myCorr(sX1, sX3, sX1X3), len(data['x1']))} \\\n",
    "      t(x2,x3): {myTStatistic(myCorr(sX2, sX3, sX2X3), len(data['x1']))}\")\n",
    "print(f\"F(x1,x2): {myFStatistic(myCorr(sX1, sX2, sX1X2), len(data['x1']))} \\\n",
    "      F(x1,x3): {myFStatistic(myCorr(sX1, sX3, sX1X3), len(data['x1']))} \\\n",
    "      F(x2,x3): {myFStatistic(myCorr(sX2, sX3, sX2X3), len(data['x1']))}\")"
   ]
  },
  {
   "cell_type": "markdown",
   "metadata": {},
   "source": [
    "## 1.3 Basics of statistical testing"
   ]
  },
  {
   "cell_type": "markdown",
   "metadata": {},
   "source": [
    "### 1.3.1 Performing a mean test (two-sided)"
   ]
  },
  {
   "cell_type": "markdown",
   "metadata": {},
   "source": [
    "#### 1.3.1.1 Statistical testing using a critical test value"
   ]
  },
  {
   "cell_type": "code",
   "execution_count": 21,
   "metadata": {},
   "outputs": [
    {
     "name": "stdout",
     "output_type": "stream",
     "text": [
      "-1.9\n"
     ]
    }
   ],
   "source": [
    "# Test data from sample\n",
    "mu0, N, mean, s = 7.5, 100, 7.3, 1.05\n",
    "\n",
    "# my mean t function (formula 1.9)\n",
    "def myMeanTest(mean, mu0, s, N):\n",
    "    se = (s / math.sqrt(N))\n",
    "    return (mean - mu0) / se\n",
    "\n",
    "meanTestT = myMeanTest(mean, mu0, s, N)\n",
    "print(round(meanTestT, 2))"
   ]
  },
  {
   "cell_type": "code",
   "execution_count": 22,
   "metadata": {},
   "outputs": [
    {
     "data": {
      "image/png": "[encoded data removed]",
      "text/plain": [
       "<Figure size 400x200 with 1 Axes>"
      ]
     },
     "metadata": {},
     "output_type": "display_data"
    }
   ],
   "source": [
    "# show meanTestT with probability density functions (pdf)\n",
    "plt.style.use('seaborn')\n",
    "f = plt.figure()\n",
    "f.set_figwidth(4)\n",
    "f.set_figheight(2)\n",
    "muNorm, sigmaNorm = 0, 1\n",
    "x = np.linspace(muNorm - 3 * sigmaNorm, muNorm + 3 * sigmaNorm, 100)\n",
    "# plt.plot(x, norm.pdf(x, muNorm, sigmaNorm), color='red', linewidth=1.0)\n",
    "plt.plot(x, t.pdf(x, 6), color='blue', linewidth=1.0)\n",
    "plt.plot(x, t.pdf(x, 10), color='green', linewidth=1.0)\n",
    "plt.plot(x, t.pdf(x, 99), color='red', linewidth=1.0)\n",
    "plt.plot([meanTestT, meanTestT], [0.0, 0.07], color='black', linewidth=1.0)\n",
    "plt.text(meanTestT + 0.1, 0.0, f\"t={round(meanTestT, 2)}\")\n",
    "plt.text(1, 0.3, \"df=99\", color='red')\n",
    "plt.text(1.2, 0.25, \"df=10\", color='green')\n",
    "plt.text(1.4, 0.2, \"df=6\", color='blue')\n",
    "plt.xlabel(\"H0\")\n",
    "plt.ylabel(\"f(t)\")\n",
    "plt.show()"
   ]
  },
  {
   "cell_type": "code",
   "execution_count": 23,
   "metadata": {},
   "outputs": [
    {
     "name": "stdout",
     "output_type": "stream",
     "text": [
      "1.9842169515086827\n"
     ]
    }
   ],
   "source": [
    "alpha = 0.05 # set 5% significance level (probability of rejecting the null hypothesis when it is true)\n",
    "tAlpha2 = t.ppf(1 - alpha/2, df=N-1) # two-sided, 1.984 in Tab. 1.12 for df=99, alpa=0.05, here calculated\n",
    "print(tAlpha2)"
   ]
  },
  {
   "cell_type": "code",
   "execution_count": 24,
   "metadata": {},
   "outputs": [
    {
     "data": {
      "image/png": "[encoded data removed]",
      "text/plain": [
       "<Figure size 400x200 with 1 Axes>"
      ]
     },
     "metadata": {},
     "output_type": "display_data"
    }
   ],
   "source": [
    "plt.style.use('seaborn')\n",
    "f = plt.figure()\n",
    "f.set_figwidth(4)\n",
    "f.set_figheight(2)\n",
    "muNorm, sigmaNorm = 0, 1\n",
    "x = np.linspace(muNorm - 3 * sigmaNorm, muNorm + 3 * sigmaNorm, 100)\n",
    "plt.plot(x, t.pdf(x, 99), color='red', linewidth=1.0)\n",
    "plt.plot([meanTestT, meanTestT], [0.0, 0.07], color='black', linewidth=1.0)\n",
    "plt.plot([tAlpha2, tAlpha2], [0.0, 0.5], color='black', linewidth=1.0, linestyle='dashed')\n",
    "plt.plot([-tAlpha2, -tAlpha2], [0.0, 0.5], color='black', linewidth=1.0, linestyle='dashed')\n",
    "plt.text(meanTestT + 0.1, 0.0, f\"t={round(meanTestT, 2)}\")\n",
    "plt.text(tAlpha2 + 0.1, -0.18, f\"t alpha/2\", horizontalalignment='center')\n",
    "plt.text(-tAlpha2 + 0.1, -0.18, f\"-t alpha/2\", horizontalalignment='center')\n",
    "plt.text(0.0, 0.45, f\"accept\", horizontalalignment='center')\n",
    "plt.text(-2.7, 0.45, f\"reject\", horizontalalignment='center')\n",
    "plt.text(2.7, 0.45, f\"reject\", horizontalalignment='center')\n",
    "plt.show()"
   ]
  },
  {
   "cell_type": "code",
   "execution_count": 25,
   "metadata": {},
   "outputs": [
    {
     "data": {
      "text/html": [
       "<div>\n",
       "<style scoped>\n",
       "    .dataframe tbody tr th:only-of-type {\n",
       "        vertical-align: middle;\n",
       "    }\n",
       "\n",
       "    .dataframe tbody tr th {\n",
       "        vertical-align: top;\n",
       "    }\n",
       "\n",
       "    .dataframe thead th {\n",
       "        text-align: right;\n",
       "    }\n",
       "</style>\n",
       "<table border=\"1\" class=\"dataframe\">\n",
       "  <thead>\n",
       "    <tr style=\"text-align: right;\">\n",
       "      <th></th>\n",
       "      <th>df</th>\n",
       "      <th>0.10</th>\n",
       "      <th>0.05</th>\n",
       "      <th>0.01</th>\n",
       "    </tr>\n",
       "  </thead>\n",
       "  <tbody>\n",
       "    <tr>\n",
       "      <th>0</th>\n",
       "      <td>1</td>\n",
       "      <td>6.314</td>\n",
       "      <td>12.706</td>\n",
       "      <td>63.657</td>\n",
       "    </tr>\n",
       "    <tr>\n",
       "      <th>1</th>\n",
       "      <td>2</td>\n",
       "      <td>2.920</td>\n",
       "      <td>4.303</td>\n",
       "      <td>9.925</td>\n",
       "    </tr>\n",
       "    <tr>\n",
       "      <th>2</th>\n",
       "      <td>3</td>\n",
       "      <td>2.353</td>\n",
       "      <td>3.182</td>\n",
       "      <td>5.841</td>\n",
       "    </tr>\n",
       "    <tr>\n",
       "      <th>3</th>\n",
       "      <td>4</td>\n",
       "      <td>2.132</td>\n",
       "      <td>2.776</td>\n",
       "      <td>4.604</td>\n",
       "    </tr>\n",
       "    <tr>\n",
       "      <th>4</th>\n",
       "      <td>5</td>\n",
       "      <td>2.015</td>\n",
       "      <td>2.571</td>\n",
       "      <td>4.032</td>\n",
       "    </tr>\n",
       "    <tr>\n",
       "      <th>5</th>\n",
       "      <td>10</td>\n",
       "      <td>1.812</td>\n",
       "      <td>2.228</td>\n",
       "      <td>3.169</td>\n",
       "    </tr>\n",
       "    <tr>\n",
       "      <th>6</th>\n",
       "      <td>20</td>\n",
       "      <td>1.725</td>\n",
       "      <td>2.086</td>\n",
       "      <td>2.845</td>\n",
       "    </tr>\n",
       "    <tr>\n",
       "      <th>7</th>\n",
       "      <td>30</td>\n",
       "      <td>1.697</td>\n",
       "      <td>2.042</td>\n",
       "      <td>2.750</td>\n",
       "    </tr>\n",
       "    <tr>\n",
       "      <th>8</th>\n",
       "      <td>40</td>\n",
       "      <td>1.684</td>\n",
       "      <td>2.021</td>\n",
       "      <td>2.704</td>\n",
       "    </tr>\n",
       "    <tr>\n",
       "      <th>9</th>\n",
       "      <td>50</td>\n",
       "      <td>1.676</td>\n",
       "      <td>2.009</td>\n",
       "      <td>2.678</td>\n",
       "    </tr>\n",
       "    <tr>\n",
       "      <th>10</th>\n",
       "      <td>99</td>\n",
       "      <td>1.660</td>\n",
       "      <td>1.984</td>\n",
       "      <td>2.626</td>\n",
       "    </tr>\n",
       "    <tr>\n",
       "      <th>11</th>\n",
       "      <td>norm</td>\n",
       "      <td>1.645</td>\n",
       "      <td>1.960</td>\n",
       "      <td>2.576</td>\n",
       "    </tr>\n",
       "  </tbody>\n",
       "</table>\n",
       "</div>"
      ],
      "text/plain": [
       "      df   0.10    0.05    0.01\n",
       "0      1  6.314  12.706  63.657\n",
       "1      2  2.920   4.303   9.925\n",
       "2      3  2.353   3.182   5.841\n",
       "3      4  2.132   2.776   4.604\n",
       "4      5  2.015   2.571   4.032\n",
       "5     10  1.812   2.228   3.169\n",
       "6     20  1.725   2.086   2.845\n",
       "7     30  1.697   2.042   2.750\n",
       "8     40  1.684   2.021   2.704\n",
       "9     50  1.676   2.009   2.678\n",
       "10    99  1.660   1.984   2.626\n",
       "11  norm  1.645   1.960   2.576"
      ]
     },
     "execution_count": 25,
     "metadata": {},
     "output_type": "execute_result"
    }
   ],
   "source": [
    "# show a classic t Table (calculating the values using the percent point function from scipy.stats.t)\n",
    "tTableDF = [1, 2, 3, 4, 5, 10, 20, 30, 40, 50, 99]\n",
    "tTableAlpa10Percent = [round(t.ppf(1 - 0.1  / 2, df=df), 3) for df in tTableDF] # two-sided\n",
    "tTableAlpa5Percent  = [round(t.ppf(1 - 0.05 / 2, df=df), 3) for df in tTableDF]\n",
    "tTableAlpa1Percent  = [round(t.ppf(1 - 0.01 / 2, df=df), 3) for df in tTableDF]\n",
    "tTableDF.append('norm')\n",
    "tTableAlpa10Percent.append(round(norm.ppf(1 - 0.1 / 2), 3))\n",
    "tTableAlpa5Percent.append(round(norm.ppf(1 - 0.05 / 2), 3))\n",
    "tTableAlpa1Percent.append(round(norm.ppf(1 - 0.01 / 2), 3))\n",
    "tTable = {'df': tTableDF, '0.10': tTableAlpa10Percent, '0.05': tTableAlpa5Percent, '0.01': tTableAlpa1Percent}\n",
    "tTableDatFrame = pd.DataFrame(tTable)\n",
    "tTableDatFrame"
   ]
  },
  {
   "cell_type": "code",
   "execution_count": 26,
   "metadata": {},
   "outputs": [
    {
     "name": "stdout",
     "output_type": "stream",
     "text": [
      "H0 accepted ? True\n",
      "The deviation of the mean value is not statistically significant!\n"
     ]
    }
   ],
   "source": [
    "h0IsFalse = abs(meanTestT) > tAlpha2 # (formula 1.10)\n",
    "print(f\"H0 accepted ? {not h0IsFalse}\")\n",
    "if (h0IsFalse):\n",
    "    print(\"The deviation of the mean value is statistically significant!\")\n",
    "else:\n",
    "    print(\"The deviation of the mean value is not statistically significant!\")"
   ]
  },
  {
   "cell_type": "markdown",
   "metadata": {},
   "source": [
    "#### 1.3.1.2 Statistical testing using the p-value"
   ]
  },
  {
   "cell_type": "code",
   "execution_count": 27,
   "metadata": {},
   "outputs": [
    {
     "name": "stdout",
     "output_type": "stream",
     "text": [
      "0.03 + 0.03 = 0.06\n"
     ]
    }
   ],
   "source": [
    "# p = P(|t| >= |temp|), here temp = meanTestT, df =99, using the cumulative distribution function, formula 1.11\n",
    "pRight = round(1 - t.cdf(abs(meanTestT), 99), 2)\n",
    "pLeft = round(t.cdf(meanTestT, 99), 2)\n",
    "p = pLeft + pRight\n",
    "print(f\"{pLeft} + {pRight} = {p}\")"
   ]
  },
  {
   "cell_type": "code",
   "execution_count": 28,
   "metadata": {},
   "outputs": [
    {
     "data": {
      "image/png": "[encoded data removed]",
      "text/plain": [
       "<Figure size 400x200 with 1 Axes>"
      ]
     },
     "metadata": {},
     "output_type": "display_data"
    }
   ],
   "source": [
    "# show meanTestT with p-value\n",
    "plt.style.use('seaborn')\n",
    "f = plt.figure()\n",
    "f.set_figwidth(4)\n",
    "f.set_figheight(2)\n",
    "muNorm, sigmaNorm = 0, 1\n",
    "x = np.linspace(muNorm - 3 * sigmaNorm, muNorm + 3 * sigmaNorm, 100)\n",
    "plt.plot(x, t.pdf(x, 99), color='red', linewidth=1.0)\n",
    "plt.plot([-3, 3], [0, 0], color='black', linewidth=1.0)\n",
    "\n",
    "plt.plot([meanTestT, meanTestT], [-0.05, 0.07], color='black', linewidth=1.0)\n",
    "plt.text(meanTestT + 0.1, -0.05, f\"{round(meanTestT, 2)}\")\n",
    "plt.plot([-meanTestT, -meanTestT], [-0.05, 0.07], color='black', linewidth=1.0)\n",
    "plt.text(-meanTestT - 0.6, -0.05, f\"{round(-meanTestT, 2)}\")\n",
    "\n",
    "plt.text(-3, 0.13, f\"p/2={pLeft}\", color='black')\n",
    "plt.text(2, 0.13, f\"p/2={pRight}\", color='black')\n",
    "plt.plot([-2.5, meanTestT - 0.2], [0.11, 0.03], color='black', linewidth=1.0)\n",
    "plt.plot([2.5, -meanTestT + 0.2], [0.11, 0.03], color='black', linewidth=1.0)\n",
    "\n",
    "plt.show()"
   ]
  },
  {
   "cell_type": "code",
   "execution_count": 29,
   "metadata": {},
   "outputs": [
    {
     "name": "stdout",
     "output_type": "stream",
     "text": [
      "H0 accepted ? True\n",
      "The deviation of the mean value is not statistically significant!\n"
     ]
    }
   ],
   "source": [
    "h0IsFalseP = p < alpha # (formula 1.12)\n",
    "print(f\"H0 accepted ? {not h0IsFalseP}\")\n",
    "if (h0IsFalseP):\n",
    "    print(\"The deviation of the mean value is statistically significant!\")\n",
    "else:\n",
    "    print(\"The deviation of the mean value is not statistically significant!\")"
   ]
  },
  {
   "cell_type": "markdown",
   "metadata": {},
   "source": [
    "#### 1.3.1.3 Errors of the first and second kind"
   ]
  },
  {
   "cell_type": "markdown",
   "metadata": {},
   "source": [
    "|  | H0 is true | H0 is false |\n",
    "| :- | :-: | :-: |\n",
    "| **H0 accepted**  | <span style=\"color:green\">true</span> positive, 1 - &alpha; | <span style=\"color:red\">false</span> positive, probability <span style=\"color:red\">**&beta;**</span>, second kind |\n",
    "| **H0 rejected** | <span style=\"color:red\">false</span> negative, probability <span style=\"color:red\">**&alpha;**</span> (significance level), first kind | <span style=\"color:green\">true</span> negative, 1 - &beta;, selectivity |"
   ]
  },
  {
   "cell_type": "markdown",
   "metadata": {},
   "source": [
    "#### 1.3.1.4 Conducting a one-sided mean test"
   ]
  },
  {
   "cell_type": "code",
   "execution_count": 30,
   "metadata": {},
   "outputs": [
    {
     "name": "stdout",
     "output_type": "stream",
     "text": [
      "-1.66\n"
     ]
    }
   ],
   "source": [
    "# H0: mu >= 7.5, H1: mu < 7.5\n",
    "tAlpha = t.ppf(alpha, df=N-1) # one-sided\n",
    "print(round(tAlpha, 2))"
   ]
  },
  {
   "cell_type": "code",
   "execution_count": 31,
   "metadata": {},
   "outputs": [
    {
     "data": {
      "image/png": "[encoded data removed]",
      "text/plain": [
       "<Figure size 400x200 with 1 Axes>"
      ]
     },
     "metadata": {},
     "output_type": "display_data"
    }
   ],
   "source": [
    "# show tAlpha\n",
    "plt.style.use('seaborn')\n",
    "f = plt.figure()\n",
    "f.set_figwidth(4)\n",
    "f.set_figheight(2)\n",
    "muNorm, sigmaNorm = 0, 1\n",
    "x = np.linspace(muNorm - 3 * sigmaNorm, muNorm + 3 * sigmaNorm, 100)\n",
    "plt.plot(x, t.pdf(x, 99), color='red', linewidth=1.0)\n",
    "plt.plot([meanTestT, meanTestT], [0.0, 0.07], color='black', linewidth=1.0)\n",
    "plt.plot([tAlpha, tAlpha], [0.0, 0.5], color='black', linewidth=1.0, linestyle='dashed')\n",
    "plt.text(-2.7, 0.45, f\"reject\", horizontalalignment='center')\n",
    "plt.text(tAlpha + 0.1, 0.0, f\"{round(tAlpha, 2)}\")\n",
    "plt.show()"
   ]
  },
  {
   "cell_type": "code",
   "execution_count": 32,
   "metadata": {},
   "outputs": [
    {
     "name": "stdout",
     "output_type": "stream",
     "text": [
      "H0 accepted ? False\n",
      "The deviation of the mean value is statistically significant!\n"
     ]
    }
   ],
   "source": [
    "h0IsFalseOne = abs(meanTestT) > tAlpha # (formula 1.13)\n",
    "print(f\"H0 accepted ? {not h0IsFalseOne}\")\n",
    "if (h0IsFalseOne):\n",
    "    print(\"The deviation of the mean value is statistically significant!\")\n",
    "else:\n",
    "    print(\"The deviation of the mean value is not statistically significant!\")"
   ]
  },
  {
   "cell_type": "code",
   "execution_count": 33,
   "metadata": {
    "scrolled": true
   },
   "outputs": [
    {
     "name": "stdout",
     "output_type": "stream",
     "text": [
      "H0 accepted ? False\n",
      "The deviation of the mean value is statistically significant!\n"
     ]
    }
   ],
   "source": [
    "# or with p-value\n",
    "h0IsFalseOneP = pLeft < alpha\n",
    "print(f\"H0 accepted ? {not h0IsFalseOneP}\")\n",
    "if (h0IsFalseOneP):\n",
    "    print(\"The deviation of the mean value is statistically significant!\")\n",
    "else:\n",
    "    print(\"The deviation of the mean value is not statistically significant!\")"
   ]
  },
  {
   "cell_type": "markdown",
   "metadata": {},
   "source": [
    "### 1.3.2 Conducting a test for quantities"
   ]
  },
  {
   "cell_type": "code",
   "execution_count": null,
   "metadata": {},
   "outputs": [],
   "source": []
  }
 ],
 "metadata": {
  "kernelspec": {
   "display_name": "Python 3 (ipykernel)",
   "language": "python",
   "name": "python3"
  },
  "language_info": {
   "codemirror_mode": {
    "name": "ipython",
    "version": 3
   },
   "file_extension": ".py",
   "mimetype": "text/x-python",
   "name": "python",
   "nbconvert_exporter": "python",
   "pygments_lexer": "ipython3",
   "version": "3.8.10"
  },
  "vscode": {
   "interpreter": {
    "hash": "916dbcbb3f70747c44a77c7bcd40155683ae19c65e1c03b4aa3499c5328201f1"
   }
  }
 },
 "nbformat": 4,
 "nbformat_minor": 2
}
